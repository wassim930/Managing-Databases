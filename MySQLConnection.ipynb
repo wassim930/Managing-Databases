{
 "cells": [
  {
   "cell_type": "code",
   "execution_count": 1,
   "id": "0105e0fe",
   "metadata": {},
   "outputs": [],
   "source": [
    "import mysql.connector\n",
    "from mysql.connector import errorcode"
   ]
  },
  {
   "cell_type": "code",
   "execution_count": 2,
   "id": "991dccbe",
   "metadata": {},
   "outputs": [],
   "source": [
    "class MySQLConnection:\n",
    "    \n",
    "    def __init__(self, username, database, host, password='', port=3306):\n",
    "        self.connectdict = {\"host\": host, \"port\": int(port), \"user\": username, \"password\": password, \"database\": database}\n",
    "        self.dbconnection = self.connect()\n",
    "        \n",
    "    def connect(self):\n",
    "        dbconnection = None\n",
    "        try:\n",
    "            dbconnection = mysql.connector.connect(**self.connectdict) \n",
    "            if dbconnection.is_connected():\n",
    "                return dbconnection\n",
    "            else:\n",
    "                return \"Cannot establish connection\"\n",
    "            \n",
    "        except mysql.connector.Error as err:\n",
    "            print(err.errno)\n",
    "            if err.errno == errorcode.ER_ACCESS_DENIED_ERROR:\n",
    "                print(\"Wrong username or password\")\n",
    "            elif err.errno == errorcode.ER_BAD_DB_ERROR:\n",
    "                print(\"Database does not exist\")\n",
    "            else:\n",
    "                print(err)\n",
    "            \n",
    "        finally:\n",
    "            if dbconnection is not None and dbconnection.is_connected():\n",
    "                dbconnection.close()\n",
    "                \n",
    "                \n",
    "    def query(self, statement, exception_when_empty=False):\n",
    "        try:\n",
    "            dbconnection = self.connect()        #dbconnection.is_connected() => False\n",
    "            dbconnection.connect()\n",
    "            cursor = dbconnection.cursor()\n",
    "            cursor.execute(statement)\n",
    "\n",
    "            result = []\n",
    "            column_names = cursor.column_names\n",
    "            for row in cursor:\n",
    "                result.append(dict(zip(column_names, row)))\n",
    "\n",
    "            if not result and exception_when_empty:\n",
    "                return \"No data returned\"\n",
    "            \n",
    "        except Exception as e:\n",
    "            print(e)\n",
    "            \n",
    "        finally:\n",
    "            cursor.close()\n",
    "            dbconnection.close()  \n",
    "        return result\n",
    "    \n",
    "    def update(self, update_statement):\n",
    "        try:\n",
    "            dbconnection = self.connect()\n",
    "            dbconnection.connect()\n",
    "            cursor = dbconnection.cursor()\n",
    "            cursor.execute(update_statement)\n",
    "            dbconnection.commit()\n",
    "        except Exception as e:\n",
    "            print(e)\n",
    "        finally:\n",
    "            cursor.close()\n",
    "            dbconnection.close()\n",
    "        return\n",
    "            \n",
    "    def insert(self, insert_statement):\n",
    "        try:\n",
    "            dbconnection = self.connect()\n",
    "            dbconnection.connect()\n",
    "            cursor = dbconnection.cursor()\n",
    "            cursor.execute(insert_statement)\n",
    "            dbconnection.commit()\n",
    "        except Exception as e:\n",
    "            dbconnection.rollback()\n",
    "            print(e)\n",
    "        finally:\n",
    "            cursor.close()\n",
    "            dbconnection.close()\n",
    "        return\n",
    "    \n",
    "    def delete(self, delete_statement):\n",
    "        try:\n",
    "            dbconnection = self.connect()\n",
    "            dbconnection.connect()\n",
    "            cursor = dbconnection.cursor()\n",
    "            cursor.execute(delete_statement)\n",
    "            dbconnection.commit()\n",
    "        except Exception as e:\n",
    "            dbconnection.rollback()\n",
    "            print(e)\n",
    "        finally:\n",
    "            cursor.close()\n",
    "            dbconnection.close()\n",
    "        return\n",
    "               "
   ]
  },
  {
   "cell_type": "code",
   "execution_count": 11,
   "id": "1defc3a3",
   "metadata": {},
   "outputs": [],
   "source": [
    "sqlconnection = MySQLConnection('root', 'mydatabase', 'localhost')"
   ]
  },
  {
   "cell_type": "code",
   "execution_count": 20,
   "id": "4b91bf4c",
   "metadata": {},
   "outputs": [],
   "source": [
    "sqlconnection.insert('INSERT INTO employees (id, name, age, occupation) VALUES (1, \"John\", 28, \"Engineer\"), \\\n",
    "                    (2, \"Jane\", 24, \"Doctor\"), (3, \"Bob\", 32, \"Artist\")')\n"
   ]
  },
  {
   "cell_type": "code",
   "execution_count": 22,
   "id": "7849984e",
   "metadata": {},
   "outputs": [
    {
     "data": {
      "text/plain": [
       "[{'id': 1, 'name': 'John', 'age': 28, 'occupation': 'Engineer'},\n",
       " {'id': 2, 'name': 'Jane', 'age': 24, 'occupation': 'Doctor'},\n",
       " {'id': 3, 'name': 'Bob', 'age': 32, 'occupation': 'Artist'}]"
      ]
     },
     "execution_count": 22,
     "metadata": {},
     "output_type": "execute_result"
    }
   ],
   "source": [
    "sqlconnection.query('SELECT * FROM employees')"
   ]
  },
  {
   "cell_type": "code",
   "execution_count": 23,
   "id": "652bfc88",
   "metadata": {},
   "outputs": [],
   "source": [
    "sqlconnection.update('UPDATE employees SET Age = 25 WHERE id=2')"
   ]
  },
  {
   "cell_type": "code",
   "execution_count": 24,
   "id": "5dec783a",
   "metadata": {},
   "outputs": [
    {
     "data": {
      "text/plain": [
       "[{'id': 1, 'name': 'John', 'age': 28, 'occupation': 'Engineer'},\n",
       " {'id': 2, 'name': 'Jane', 'age': 25, 'occupation': 'Doctor'},\n",
       " {'id': 3, 'name': 'Bob', 'age': 32, 'occupation': 'Artist'}]"
      ]
     },
     "execution_count": 24,
     "metadata": {},
     "output_type": "execute_result"
    }
   ],
   "source": [
    "sqlconnection.query('SELECT * FROM employees')"
   ]
  },
  {
   "cell_type": "code",
   "execution_count": 25,
   "id": "09dfdff2",
   "metadata": {},
   "outputs": [],
   "source": [
    "sqlconnection.delete('DELETE FROM employees WHERE id=3')"
   ]
  },
  {
   "cell_type": "code",
   "execution_count": 26,
   "id": "b5ae2afa",
   "metadata": {},
   "outputs": [
    {
     "data": {
      "text/plain": [
       "[{'id': 1, 'name': 'John', 'age': 28, 'occupation': 'Engineer'},\n",
       " {'id': 2, 'name': 'Jane', 'age': 25, 'occupation': 'Doctor'}]"
      ]
     },
     "execution_count": 26,
     "metadata": {},
     "output_type": "execute_result"
    }
   ],
   "source": [
    "sqlconnection.query('SELECT * FROM employees')"
   ]
  },
  {
   "cell_type": "code",
   "execution_count": 9,
   "id": "324fd1ac",
   "metadata": {},
   "outputs": [],
   "source": [
    "def select(tablename, select_dict, where_dict=None):\n",
    "    query = \"Select \"\n",
    "    for select_col, alias in select_dict.items():\n",
    "        if list(select_dict.keys()).index(select_col) < len(select_dict)-1 :\n",
    "            s = f'{select_col} as {alias}, '\n",
    "        else:\n",
    "            s = f'{select_col} as {alias} '\n",
    "        query += s\n",
    "    query += f'From {tablename} '\n",
    "    \n",
    "    if where_dict:\n",
    "        query += 'Where '\n",
    "        for where_col, where_value in where_dict.items():\n",
    "            if isinstance(where_value, tuple):\n",
    "                query += f'{where_col} in {where_value} and '\n",
    "            elif isinstance(where_value, str) or isinstance(where_value, int):\n",
    "                query += f'{where_col} = {where_value} and '\n",
    "            elif isinstance(where_value, dict):\n",
    "                for operator, operand in where_value.items():\n",
    "                    query += f'{where_col} {operator} {operand} and '\n",
    "    query = query[:-4]\n",
    "        \n",
    "    return query"
   ]
  },
  {
   "cell_type": "code",
   "execution_count": 30,
   "id": "c3e04e0f",
   "metadata": {},
   "outputs": [
    {
     "data": {
      "text/plain": [
       "\"Select id as ID, name as Name, occupation as Job From employees Where id <= 5 and age = 25 and name in ('Jane', 'Bob') \""
      ]
     },
     "execution_count": 30,
     "metadata": {},
     "output_type": "execute_result"
    }
   ],
   "source": [
    "query = select('employees',  # Table Name \n",
    "               {\"id\": \"ID\", \"name\": \"Name\", \"occupation\": \"Job\"},  # Select dict  \n",
    "               {\"id\": {\"<=\": 5}, \"age\": 25, \"name\": (\"Jane\", \"Bob\")}) # Where dict\n",
    "\n",
    "query"
   ]
  },
  {
   "cell_type": "code",
   "execution_count": 31,
   "id": "bb15da24",
   "metadata": {},
   "outputs": [
    {
     "data": {
      "text/plain": [
       "[{'ID': 2, 'Name': 'Jane', 'Job': 'Doctor'}]"
      ]
     },
     "execution_count": 31,
     "metadata": {},
     "output_type": "execute_result"
    }
   ],
   "source": [
    "sqlconnection.query(query)"
   ]
  },
  {
   "cell_type": "code",
   "execution_count": null,
   "id": "93df5194",
   "metadata": {},
   "outputs": [],
   "source": []
  }
 ],
 "metadata": {
  "kernelspec": {
   "display_name": "Python 3 (ipykernel)",
   "language": "python",
   "name": "python3"
  },
  "language_info": {
   "codemirror_mode": {
    "name": "ipython",
    "version": 3
   },
   "file_extension": ".py",
   "mimetype": "text/x-python",
   "name": "python",
   "nbconvert_exporter": "python",
   "pygments_lexer": "ipython3",
   "version": "3.9.7"
  }
 },
 "nbformat": 4,
 "nbformat_minor": 5
}
