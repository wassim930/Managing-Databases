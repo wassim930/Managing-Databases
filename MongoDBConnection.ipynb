{
 "cells": [
  {
   "cell_type": "code",
   "execution_count": 82,
   "id": "c47f8b04",
   "metadata": {},
   "outputs": [],
   "source": [
    "import pymongo"
   ]
  },
  {
   "cell_type": "code",
   "execution_count": 83,
   "id": "e49b1daa",
   "metadata": {},
   "outputs": [],
   "source": [
    "class MongoDBConnection:\n",
    "    def __init__(self, host, port, database, user=None, password=None, useSSL=False, additionalParams=None):\n",
    "        self.connectiondict = {\"host\": host, \"port\": port, \"database\": database, \"username\": user,\"password\": password}\n",
    "        self.host = host\n",
    "        self.port = port\n",
    "        self.database = database\n",
    "        self.username = user\n",
    "        self.password = password\n",
    "        self.useSSL = useSSL\n",
    "        if not additionalParams:\n",
    "            self.additionalParams = []\n",
    "        else:\n",
    "            self.additionalParams = additionalParams\n",
    "        self.dbconnection = self.connect()\n",
    "        \n",
    "    def connect(self):\n",
    "        parameterappends = []\n",
    "\n",
    "        if self.useSSL:\n",
    "            ssl = \"ssl=true\"\n",
    "            parameterappends.append(ssl)\n",
    "            \n",
    "        parameterappends.extend(self.additionalParams)\n",
    "            \n",
    "        param_string = \"&\".join(parameterappends)\n",
    "        if param_string:\n",
    "            param_string = '/?' + param_string\n",
    "        \n",
    "        if self.username and self.password:\n",
    "            mongodbstring = \"mongodb://\" + self.username + \":\" + self.password + \"@\" + self.host + \":\" + str(self.port) + param_string\n",
    "        else:\n",
    "            mongodbstring = \"mongodb://\" + self.host + \":\" + str(self.port) + param_string\n",
    "        \n",
    "        print(mongodbstring)\n",
    "\n",
    "        \n",
    "        dbconnection = pymongo.MongoClient(mongodbstring)\n",
    "        db = dbconnection[self.database]\n",
    "        \n",
    "        return db\n",
    "    \n",
    "    def check_if_collection_exists(self, collectionName):\n",
    "        if collectionName in self.dbconnection.list_collection_names():\n",
    "            return True\n",
    "        return False\n",
    "    \n",
    "    def select_collection(self, collectionName):\n",
    "        return self.dbconnection[collectionName]\n",
    "    \n",
    "    def create_collection(self, collectionname, indexname=None):\n",
    "        if self.check_if_collection_exists(collectionname):\n",
    "            print(\"Collection \\'{}\\' already exists!\".format(collectionname))\n",
    "            return self.select_collection(collectionname)\n",
    "\n",
    "        try:\n",
    "            col = self.select_collection(collectionname)\n",
    "            if indexname:\n",
    "                col.create_index(indexname, unique=True)\n",
    "            return col\n",
    "        except Exception:\n",
    "            print(\"Error during creation of Collection: {}\".format(traceback.format_exc()))\n",
    "            \n",
    "    def insert(self, collectionname, data, indexkey=None):\n",
    "        mongocollection = self.select_collection(collectionname)\n",
    "        mongocollection.insert_many(data)\n",
    "                \n",
    "    def remove(self, collectionname, data):\n",
    "\n",
    "        mongocollection = self.select_collection(collectionname)\n",
    "        ids = []\n",
    "        for datarow in data:\n",
    "            ids.append(datarow[\"documentId\"])\n",
    "        deleted = mongocollection.delete_many({\"documentId\": {\"$in\": ids}})\n",
    "        return deleted        "
   ]
  },
  {
   "cell_type": "code",
   "execution_count": 84,
   "id": "d1dae73d",
   "metadata": {},
   "outputs": [
    {
     "name": "stdout",
     "output_type": "stream",
     "text": [
      "mongodb://localhost:27017\n"
     ]
    }
   ],
   "source": [
    "db = MongoDBConnection(host=\"localhost\", port=27017, database=\"droppy\")"
   ]
  },
  {
   "cell_type": "code",
   "execution_count": 85,
   "id": "7d1d2f6a",
   "metadata": {},
   "outputs": [
    {
     "data": {
      "text/plain": [
       "True"
      ]
     },
     "execution_count": 85,
     "metadata": {},
     "output_type": "execute_result"
    }
   ],
   "source": [
    "db.check_if_collection_exists('wassim')"
   ]
  },
  {
   "cell_type": "code",
   "execution_count": 86,
   "id": "f9b5827e",
   "metadata": {},
   "outputs": [
    {
     "data": {
      "text/plain": [
       "False"
      ]
     },
     "execution_count": 86,
     "metadata": {},
     "output_type": "execute_result"
    }
   ],
   "source": [
    "db.check_if_collection_exists('user_1')"
   ]
  },
  {
   "cell_type": "code",
   "execution_count": 87,
   "id": "b010b5a7",
   "metadata": {},
   "outputs": [
    {
     "data": {
      "text/plain": [
       "Collection(Database(MongoClient(host=['localhost:27017'], document_class=dict, tz_aware=False, connect=True), 'droppy'), 'user_1')"
      ]
     },
     "execution_count": 87,
     "metadata": {},
     "output_type": "execute_result"
    }
   ],
   "source": [
    "db.create_collection(\"user_1\")"
   ]
  },
  {
   "cell_type": "code",
   "execution_count": 88,
   "id": "b9f0a4c8",
   "metadata": {},
   "outputs": [
    {
     "data": {
      "text/plain": [
       "False"
      ]
     },
     "execution_count": 88,
     "metadata": {},
     "output_type": "execute_result"
    }
   ],
   "source": [
    "db.check_if_collection_exists('user_1') #We should populate the collection to become physically existant "
   ]
  },
  {
   "cell_type": "code",
   "execution_count": 91,
   "id": "011b3078",
   "metadata": {},
   "outputs": [],
   "source": [
    "db.insert(\"user_1\", [{'user_name':'user', 'consumption':0.11, 'date':'09/01/2024'}])"
   ]
  },
  {
   "cell_type": "code",
   "execution_count": 92,
   "id": "7068fd0e",
   "metadata": {},
   "outputs": [
    {
     "data": {
      "text/plain": [
       "True"
      ]
     },
     "execution_count": 92,
     "metadata": {},
     "output_type": "execute_result"
    }
   ],
   "source": [
    "db.check_if_collection_exists('user_1') "
   ]
  },
  {
   "cell_type": "code",
   "execution_count": null,
   "id": "5a573514",
   "metadata": {},
   "outputs": [],
   "source": []
  }
 ],
 "metadata": {
  "kernelspec": {
   "display_name": "Python 3 (ipykernel)",
   "language": "python",
   "name": "python3"
  },
  "language_info": {
   "codemirror_mode": {
    "name": "ipython",
    "version": 3
   },
   "file_extension": ".py",
   "mimetype": "text/x-python",
   "name": "python",
   "nbconvert_exporter": "python",
   "pygments_lexer": "ipython3",
   "version": "3.9.7"
  }
 },
 "nbformat": 4,
 "nbformat_minor": 5
}
